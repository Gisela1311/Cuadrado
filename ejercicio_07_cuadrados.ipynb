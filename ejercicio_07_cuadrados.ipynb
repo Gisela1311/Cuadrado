{
 "cells": [
  {
   "cell_type": "markdown",
   "metadata": {},
   "source": [
    "# Cuadrados\n",
    "\n",
    "#### 01.- un cuadrado básico\n",
    "\n",
    "Escribe una función cuadrado que muestre un cuadrado de 5 # x 5 lineas como esta:\n",
    "\n",
    "<p>\n",
    "A A A A A<br>\n",
    "A&emsp;&emsp;&emsp;A<br>\n",
    "A&emsp;&emsp;&emsp;A<br>\n",
    "A&emsp;&emsp;&emsp;A<br>\n",
    "A A A A A\n",
    "</p>\n",
    "\n",
    "``````python\n",
    "def cuadrado():\n",
    "``````\n",
    "    "
   ]
  },
  {
   "cell_type": "code",
   "execution_count": 72,
   "metadata": {},
   "outputs": [],
   "source": [
    "def cuadrado():\n",
    "  a= (\"AAAAA\")\n",
    "  b= (\"A   A\")\n",
    "  print(f\"{a}\\n{b} \\n{b} \\n{b} \\n{a}\")\n",
    "\n",
    "def cuadrado_con_letra(letra):\n",
    "  a= (letra * 5)\n",
    "  b= (f\"{letra}   {letra}\")\n",
    "  print(f\"{a}\\n{b} \\n{b} \\n{b} \\n{a}\")\n",
    "        "
   ]
  },
  {
   "cell_type": "code",
   "execution_count": 74,
   "metadata": {},
   "outputs": [
    {
     "name": "stdout",
     "output_type": "stream",
     "text": [
      "AAAAA\n",
      "A   A \n",
      "A   A \n",
      "A   A \n",
      "AAAAA\n",
      "QQQQQ\n",
      "Q   Q \n",
      "Q   Q \n",
      "Q   Q \n",
      "QQQQQ\n"
     ]
    }
   ],
   "source": [
    "cuadrado()\n",
    "cuadrado_con_letra('Q')"
   ]
  },
  {
   "cell_type": "markdown",
   "metadata": {},
   "source": [
    "#### 02.- Varios cuadrados básicos\n",
    "\n",
    "Escribe una función para  dibujar una cantidad de cuadrados como el anterior.\n",
    "\n",
    "La funcion tiene esta firma: \n",
    "\n",
    "``````python\n",
    "def secuencia_cuadrados(cantidad:int):\n",
    "``````\n",
    "\n",
    "Una llamada como está:\n",
    "\n",
    "``````python\n",
    "secuencia_cuadrados(3)\n",
    "``````\n",
    "\n",
    "Debe producir\n",
    "\n",
    "<p>\n",
    "A A A A A<br>\n",
    "A&emsp;&emsp;&emsp;A<br>\n",
    "A&emsp;&emsp;&emsp;A<br>\n",
    "A&emsp;&emsp;&emsp;A<br>\n",
    "A A A A A\n",
    "</p>\n",
    "\n",
    "<p>\n",
    "A A A A A<br>\n",
    "A&emsp;&emsp;&emsp;A<br>\n",
    "A&emsp;&emsp;&emsp;A<br>\n",
    "A&emsp;&emsp;&emsp;A<br>\n",
    "A A A A A\n",
    "</p>\n",
    "\n",
    "<p>\n",
    "A A A A A<br>\n",
    "A&emsp;&emsp;&emsp;A<br>\n",
    "A&emsp;&emsp;&emsp;A<br>\n",
    "A&emsp;&emsp;&emsp;A<br>\n",
    "A A A A A\n",
    "</p>\n",
    "\n",
    "\n"
   ]
  },
  {
   "cell_type": "code",
   "execution_count": 61,
   "metadata": {},
   "outputs": [],
   "source": [
    "def secuencia_cuadrados(cantidad:int):\n",
    "    for i in range(cantidad):\n",
    "        cuadrado()"
   ]
  },
  {
   "cell_type": "code",
   "execution_count": 62,
   "metadata": {},
   "outputs": [
    {
     "name": "stdout",
     "output_type": "stream",
     "text": [
      "AAAAA\n",
      "A   A \n",
      "A   A \n",
      "A   A \n",
      "AAAAA\n",
      "AAAAA\n",
      "A   A \n",
      "A   A \n",
      "A   A \n",
      "AAAAA\n",
      "AAAAA\n",
      "A   A \n",
      "A   A \n",
      "A   A \n",
      "AAAAA\n"
     ]
    }
   ],
   "source": [
    "secuencia_cuadrados(3)"
   ]
  },
  {
   "cell_type": "markdown",
   "metadata": {},
   "source": [
    "#### 03.-Cuadrado_personalizado\n",
    "Define una función similar a la función cuadrado anterior, pero que permita cambiar la letra con la que pinta el cuadrado.\n",
    "\n",
    "``````python\n",
    "def cuadrado_personalizado(letra:str):\n",
    "``````\n",
    "\n",
    "Una llamada\n",
    "``````python\n",
    "cuadrado_personalizado('T'):\n",
    "``````\n",
    "\n",
    "Producirá\n",
    "<p>\n",
    "T T T T T<br>\n",
    "T&emsp;&emsp;&emsp;T<br>\n",
    "T&emsp;&emsp;&emsp;T<br>\n",
    "T&emsp;&emsp;&emsp;T<br>\n",
    "T T T T T\n",
    "</p>\n",
    "\n",
    "Una llamada\n",
    "``````python\n",
    "cuadrado_personalizado('H'):\n",
    "``````\n",
    "\n",
    "Producirá\n",
    "<p>\n",
    "H H H H H<br>\n",
    "H&emsp;&emsp;&emsp;H<br>\n",
    "H&emsp;&emsp;&emsp;H<br>\n",
    "H&emsp;&emsp;&emsp;H<br>\n",
    "H H H H H\n",
    "</p>"
   ]
  },
  {
   "cell_type": "code",
   "execution_count": 75,
   "metadata": {},
   "outputs": [],
   "source": [
    "def cuadrado_personalizado(letra):\n",
    "  a= (letra * 5)\n",
    "  b= (f\"{letra}   {letra}\")\n",
    "  print(f\"{a}\\n{b} \\n{b} \\n{b} \\n{a}\")"
   ]
  },
  {
   "cell_type": "code",
   "execution_count": 76,
   "metadata": {},
   "outputs": [
    {
     "name": "stdout",
     "output_type": "stream",
     "text": [
      "HHHHH\n",
      "H   H \n",
      "H   H \n",
      "H   H \n",
      "HHHHH\n"
     ]
    }
   ],
   "source": [
    "cuadrado_personalizado(\"H\")"
   ]
  },
  {
   "cell_type": "markdown",
   "metadata": {},
   "source": [
    "### 04 sopa cuadrados\n",
    "\n",
    "Define una funcion que recibe un nombre y pinta tantos cuadrados personalizados como letras tiene el nombre\n",
    "\n",
    "``````python\n",
    "def sopa_cuadrados(nombre:str):\n",
    "``````\n",
    "\n",
    "Una llamada\n",
    "``````python\n",
    "sopa_cuadrados(\"Ana\"):\n",
    "``````\n",
    "\n",
    "generará esta salida:\n",
    "\n",
    "<p>\n",
    "A A A A A<br>\n",
    "A&emsp;&emsp;&emsp;A<br>\n",
    "A&emsp;&emsp;&emsp;A<br>\n",
    "A&emsp;&emsp;&emsp;A<br>\n",
    "A A A A A\n",
    "</p>\n",
    "\n",
    "<p>\n",
    "n n n n n<br>\n",
    "n&emsp;&emsp;&emsp;n<br>\n",
    "n&emsp;&emsp;&emsp;n<br>\n",
    "n&emsp;&emsp;&emsp;n<br>\n",
    "n n n n n\n",
    "</p>\n",
    "\n",
    "<p>\n",
    "a a a a a<br>\n",
    "a&emsp;&emsp;&emsp;a<br>\n",
    "a&emsp;&emsp;&emsp;a<br>\n",
    "a&emsp;&emsp;&emsp;a<br>\n",
    "a a a a a\n",
    "</p>\n",
    "\n"
   ]
  },
  {
   "cell_type": "code",
   "execution_count": 77,
   "metadata": {},
   "outputs": [],
   "source": [
    "def sopa_cuadrados(nombre):\n",
    "  for letra in nombre:\n",
    "    a= (letra * 5)\n",
    "    b= (f\"{letra}   {letra}\")\n",
    "    print(f\"{a}\\n{b} \\n{b} \\n{b} \\n{a}\")"
   ]
  },
  {
   "cell_type": "code",
   "execution_count": 79,
   "metadata": {},
   "outputs": [
    {
     "name": "stdout",
     "output_type": "stream",
     "text": [
      "GGGGG\n",
      "G   G \n",
      "G   G \n",
      "G   G \n",
      "GGGGG\n",
      "IIIII\n",
      "I   I \n",
      "I   I \n",
      "I   I \n",
      "IIIII\n",
      "SSSSS\n",
      "S   S \n",
      "S   S \n",
      "S   S \n",
      "SSSSS\n",
      "EEEEE\n",
      "E   E \n",
      "E   E \n",
      "E   E \n",
      "EEEEE\n",
      "LLLLL\n",
      "L   L \n",
      "L   L \n",
      "L   L \n",
      "LLLLL\n",
      "AAAAA\n",
      "A   A \n",
      "A   A \n",
      "A   A \n",
      "AAAAA\n"
     ]
    }
   ],
   "source": [
    "sopa_cuadrados(\"GISELA\")"
   ]
  },
  {
   "cell_type": "markdown",
   "metadata": {},
   "source": [
    "#### 05 Cuadrado variable\n",
    "\n",
    "Define una función que recibe un númeor como dimensión y dibuje un cuadrado básico de esa dimension\n",
    "\n",
    "``````python\n",
    "def cuadrado_variable(dimension:int):\n",
    "``````\n",
    "\n",
    "De forma que una llamada:\n",
    "\n",
    "``````python\n",
    "cuadrado_variable(5):\n",
    "``````\n",
    "\n",
    "genera\n",
    "<p>\n",
    "A A A A A<br>\n",
    "A&emsp;&emsp;&emsp;A<br>\n",
    "A&emsp;&emsp;&emsp;A<br>\n",
    "A&emsp;&emsp;&emsp;A<br>\n",
    "A A A A A\n",
    "</p>\n",
    "\n",
    "De forma que una llamada:\n",
    "\n",
    "``````python\n",
    "cuadrado_variable(4):\n",
    "``````\n",
    "\n",
    "genera\n",
    "<p>\n",
    "A<br>\n",
    "</p>\n",
    "\n",
    "De forma que una llamada:\n",
    "\n",
    "``````python\n",
    "cuadrado_variable(3):\n",
    "``````\n",
    "\n",
    "genera\n",
    "<p>\n",
    "A A A<br>\n",
    "A&emsp;A<br>\n",
    "A A A\n",
    "</p>\n",
    "\n",
    "De forma que una llamada:\n",
    "\n",
    "``````python\n",
    "cuadrado_variable(2):\n",
    "``````\n",
    "\n",
    "genera\n",
    "<p>\n",
    "A A<br>\n",
    "A A\n",
    "</p>\n",
    "\n",
    "De forma que una llamada:\n",
    "\n",
    "``````python\n",
    "cuadrado_variable(1):\n",
    "``````\n",
    "\n",
    "genera\n",
    "<p>\n",
    "A<br>\n",
    "</b>\n",
    "\n",
    "De forma que una llamada:\n",
    "\n",
    "``````python\n",
    "cuadrado_variable(0):\n",
    "``````\n",
    "None"
   ]
  },
  {
   "cell_type": "markdown",
   "metadata": {},
   "source": []
  },
  {
   "cell_type": "code",
   "execution_count": 82,
   "metadata": {},
   "outputs": [],
   "source": [
    "def cuadrado_variable(n):\n",
    "   a= (\"A\" * n)\n",
    "   \n",
    "   if n == 0:\n",
    "      print(\"None\")\n",
    "   elif n ==1:\n",
    "      print(a)\n",
    "   elif n ==2: \n",
    "      print(a)\n",
    "      print(a)\n",
    "   else:\n",
    "      b= 'A'+ (n-2)*\" \" + 'A'\n",
    "      print(a)\n",
    "      for i in range(n-2):\n",
    "         print(b)\n",
    "      print(a)\n",
    "           \n",
    " \n",
    "      "
   ]
  },
  {
   "cell_type": "code",
   "execution_count": 86,
   "metadata": {},
   "outputs": [
    {
     "name": "stdout",
     "output_type": "stream",
     "text": [
      "AAA\n",
      "A A\n",
      "AAA\n"
     ]
    }
   ],
   "source": [
    "cuadrado_variable(3)"
   ]
  },
  {
   "cell_type": "code",
   "execution_count": null,
   "metadata": {},
   "outputs": [],
   "source": []
  }
 ],
 "metadata": {
  "kernelspec": {
   "display_name": "base",
   "language": "python",
   "name": "python3"
  },
  "language_info": {
   "codemirror_mode": {
    "name": "ipython",
    "version": 3
   },
   "file_extension": ".py",
   "mimetype": "text/x-python",
   "name": "python",
   "nbconvert_exporter": "python",
   "pygments_lexer": "ipython3",
   "version": "3.12.4"
  }
 },
 "nbformat": 4,
 "nbformat_minor": 2
}
